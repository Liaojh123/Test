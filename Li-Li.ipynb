{
 "cells": [
  {
   "cell_type": "markdown",
   "id": "ba6db034",
   "metadata": {},
   "source": [
    "# 改变结构第二近邻的Li-Li数量"
   ]
  },
  {
   "cell_type": "code",
   "execution_count": 1,
   "id": "e6399d81",
   "metadata": {},
   "outputs": [],
   "source": [
    "from pymatgen.analysis.local_env import CrystalNN\n",
    "from pymatgen.core.structure import Structure, Element, Species\n",
    "import numpy as np"
   ]
  },
  {
   "cell_type": "code",
   "execution_count": 2,
   "id": "eec5c3eb",
   "metadata": {},
   "outputs": [],
   "source": [
    "cnn = CrystalNN()"
   ]
  },
  {
   "cell_type": "code",
   "execution_count": 3,
   "id": "82a1ba9d",
   "metadata": {},
   "outputs": [],
   "source": [
    "#初始sqs结构含有6个F原子\n",
    "tm2 = Structure.from_file(\"D:/Users/ASUS/Desktop/Computational Practice//818/F-Li/TM6/TM6_test_POSCAR\")\n",
    "tm2_less = Structure.from_file(\"D:/Users/ASUS/Desktop/Computational Practice/818/F-Li/TM4/TM4_3_POSCAR_less\")\n",
    "tm2_more = Structure.from_file(\"D:/Users/ASUS/Desktop/Computational Practice/818/F-Li/TM4/TM4_3_POSCAR_less\")"
   ]
  },
  {
   "cell_type": "code",
   "execution_count": 4,
   "id": "8eb29585",
   "metadata": {},
   "outputs": [],
   "source": [
    "#将阴离子删去\n",
    "OF_list = []\n",
    "for i in range(79,39,-1):\n",
    "    #print(tm2[i])\n",
    "    OF_list.append(tm2[i])#将阴离子信息保存在新建的一个列表中\n",
    "    tm2.pop(i)\n",
    "    tm2_less.pop(i)\n",
    "    tm2_more.pop(i)"
   ]
  },
  {
   "cell_type": "code",
   "execution_count": 5,
   "id": "eef4acf7",
   "metadata": {},
   "outputs": [
    {
     "name": "stderr",
     "output_type": "stream",
     "text": [
      "D:\\Python\\Anaconda\\lib\\site-packages\\pymatgen\\analysis\\local_env.py:4303: UserWarning: No oxidation states specified on sites! For better results, set the site oxidation states in the structure.\n",
      "  \"No oxidation states specified on sites! For better results, set \"\n",
      "D:\\Python\\Anaconda\\lib\\site-packages\\pymatgen\\analysis\\local_env.py:4086: UserWarning: CrystalNN: cannot locate an appropriate radius, covalent or atomic radii will be used, this can lead to non-optimal results.\n",
      "  \"CrystalNN: cannot locate an appropriate radius, \"\n"
     ]
    },
    {
     "name": "stdout",
     "output_type": "stream",
     "text": [
      "[0, 6, 7, 5, 6, 7, 5, 7, 9, 0, 8, 10, 9, 10, 9, 8, 8, 7, 7, 8, 7, 9, 6, 6, 6, 6]\n"
     ]
    },
    {
     "data": {
      "text/plain": [
       "6.769230769230769"
      ]
     },
     "execution_count": 5,
     "metadata": {},
     "output_type": "execute_result"
    }
   ],
   "source": [
    "#统计初始结构次近邻的Li-Li数量\n",
    "li_f_cn = []\n",
    "for i in range(tm2.num_sites):\n",
    "    if tm2.species[i] == Element(\"Li\"):\n",
    "        li_f_cn.append(cnn.get_cn_dict(tm2, i).get(\"Li\", 0))\n",
    "        \n",
    "print(li_f_cn)\n",
    "np.mean(li_f_cn)"
   ]
  },
  {
   "cell_type": "code",
   "execution_count": 7,
   "id": "3a1e07b8",
   "metadata": {},
   "outputs": [
    {
     "data": {
      "text/plain": [
       "[PeriodicSite: Cr (12.7632, 12.7632, 8.5088) [1.0000, 0.5000, 0.8000],\n",
       " PeriodicSite: Nb (14.8904, 14.8904, 4.2544) [0.5000, 0.2500, 1.2000],\n",
       " PeriodicSite: Ti (17.0176, 14.8904, 6.3816) [0.5000, 0.5000, 1.2000],\n",
       " PeriodicSite: Li (14.8904, 10.6360, 8.5088) [0.5000, 0.7500, 0.8000],\n",
       " PeriodicSite: Li (12.7632, 10.6360, 6.3816) [0.5000, 0.5000, 0.8000],\n",
       " PeriodicSite: Li (14.8904, 14.8904, 8.5088) [1.0000, 0.5000, 1.0000],\n",
       " PeriodicSite: Li (14.8904, 10.6360, 4.2544) [0.0000, 0.5000, 1.0000],\n",
       " PeriodicSite: Li (12.7632, 14.8904, 6.3816) [1.0000, 0.2500, 1.0000],\n",
       " PeriodicSite: Li (17.0176, 12.7632, 8.5088) [0.5000, 0.7500, 1.0000],\n",
       " PeriodicSite: Li (12.7632, 12.7632, 4.2544) [0.5000, 0.2500, 1.0000],\n",
       " PeriodicSite: Li (17.0176, 10.6360, 6.3816) [0.0000, 0.7500, 1.0000],\n",
       " PeriodicSite: Li (17.0176, 12.7632, 4.2544) [0.0000, 0.5000, 1.2000]]"
      ]
     },
     "execution_count": 7,
     "metadata": {},
     "output_type": "execute_result"
    }
   ],
   "source": [
    "cnn.get_nn(tm2, 4)"
   ]
  },
  {
   "cell_type": "code",
   "execution_count": 58,
   "id": "3c1c8cd8",
   "metadata": {},
   "outputs": [
    {
     "data": {
      "text/plain": [
       "[PeriodicSite: Co (19.1448, 12.7632, 10.6360) [0.5000, 1.0000, 1.0000]]"
      ]
     },
     "execution_count": 58,
     "metadata": {},
     "output_type": "execute_result"
    }
   ],
   "source": [
    "cnn.get_nn(tm2, 5)"
   ]
  },
  {
   "cell_type": "code",
   "execution_count": 39,
   "id": "0b060cd9",
   "metadata": {},
   "outputs": [],
   "source": [
    "#将保存阴离子信息的列表逆序排列\n",
    "OF_list.reverse()"
   ]
  },
  {
   "cell_type": "code",
   "execution_count": 40,
   "id": "dfb619ec",
   "metadata": {},
   "outputs": [
    {
     "data": {
      "text/plain": [
       "[PeriodicSite: O (2.1272, 2.1272, 2.1272) [0.2500, 0.1250, 0.1000],\n",
       " PeriodicSite: O (2.1272, 4.2544, 4.2544) [0.7500, 0.1250, 0.1000],\n",
       " PeriodicSite: O (4.2544, 2.1272, 4.2544) [0.2500, 0.3750, 0.1000],\n",
       " PeriodicSite: O (4.2544, 4.2544, 6.3816) [0.7500, 0.3750, 0.1000],\n",
       " PeriodicSite: O (6.3816, 2.1272, 6.3816) [0.2500, 0.6250, 0.1000],\n",
       " PeriodicSite: O (6.3816, 4.2544, 8.5088) [0.7500, 0.6250, 0.1000],\n",
       " PeriodicSite: O (8.5088, 2.1272, 8.5088) [0.2500, 0.8750, 0.1000],\n",
       " PeriodicSite: O (8.5088, 4.2544, 10.6360) [0.7500, 0.8750, 0.1000],\n",
       " PeriodicSite: O (4.2544, 4.2544, 2.1272) [0.2500, 0.1250, 0.3000],\n",
       " PeriodicSite: O (4.2544, 6.3816, 4.2544) [0.7500, 0.1250, 0.3000],\n",
       " PeriodicSite: O (6.3816, 6.3816, 6.3816) [0.7500, 0.3750, 0.3000],\n",
       " PeriodicSite: O (8.5088, 4.2544, 6.3816) [0.2500, 0.6250, 0.3000],\n",
       " PeriodicSite: O (8.5088, 6.3816, 8.5088) [0.7500, 0.6250, 0.3000],\n",
       " PeriodicSite: O (10.6360, 4.2544, 8.5088) [0.2500, 0.8750, 0.3000],\n",
       " PeriodicSite: O (6.3816, 6.3816, 2.1272) [0.2500, 0.1250, 0.5000],\n",
       " PeriodicSite: O (6.3816, 8.5088, 4.2544) [0.7500, 0.1250, 0.5000],\n",
       " PeriodicSite: O (8.5088, 6.3816, 4.2544) [0.2500, 0.3750, 0.5000],\n",
       " PeriodicSite: O (8.5088, 8.5088, 6.3816) [0.7500, 0.3750, 0.5000],\n",
       " PeriodicSite: O (10.6360, 6.3816, 6.3816) [0.2500, 0.6250, 0.5000],\n",
       " PeriodicSite: O (10.6360, 8.5088, 8.5088) [0.7500, 0.6250, 0.5000],\n",
       " PeriodicSite: O (12.7632, 8.5088, 10.6360) [0.7500, 0.8750, 0.5000],\n",
       " PeriodicSite: O (8.5088, 8.5088, 2.1272) [0.2500, 0.1250, 0.7000],\n",
       " PeriodicSite: O (8.5088, 10.6360, 4.2544) [0.7500, 0.1250, 0.7000],\n",
       " PeriodicSite: O (10.6360, 8.5088, 4.2544) [0.2500, 0.3750, 0.7000],\n",
       " PeriodicSite: O (10.6360, 10.6360, 6.3816) [0.7500, 0.3750, 0.7000],\n",
       " PeriodicSite: O (12.7632, 10.6360, 8.5088) [0.7500, 0.6250, 0.7000],\n",
       " PeriodicSite: O (14.8904, 8.5088, 8.5088) [0.2500, 0.8750, 0.7000],\n",
       " PeriodicSite: O (14.8904, 10.6360, 10.6360) [0.7500, 0.8750, 0.7000],\n",
       " PeriodicSite: O (10.6360, 12.7632, 4.2544) [0.7500, 0.1250, 0.9000],\n",
       " PeriodicSite: O (12.7632, 10.6360, 4.2544) [0.2500, 0.3750, 0.9000],\n",
       " PeriodicSite: O (12.7632, 12.7632, 6.3816) [0.7500, 0.3750, 0.9000],\n",
       " PeriodicSite: O (14.8904, 10.6360, 6.3816) [0.2500, 0.6250, 0.9000],\n",
       " PeriodicSite: O (14.8904, 12.7632, 8.5088) [0.7500, 0.6250, 0.9000],\n",
       " PeriodicSite: O (17.0176, 12.7632, 10.6360) [0.7500, 0.8750, 0.9000],\n",
       " PeriodicSite: F (6.3816, 4.2544, 4.2544) [0.2500, 0.3750, 0.3000],\n",
       " PeriodicSite: F (10.6360, 6.3816, 10.6360) [0.7500, 0.8750, 0.3000],\n",
       " PeriodicSite: F (12.7632, 6.3816, 8.5088) [0.2500, 0.8750, 0.5000],\n",
       " PeriodicSite: F (12.7632, 8.5088, 6.3816) [0.2500, 0.6250, 0.7000],\n",
       " PeriodicSite: F (10.6360, 10.6360, 2.1272) [0.2500, 0.1250, 0.9000],\n",
       " PeriodicSite: F (17.0176, 10.6360, 8.5088) [0.2500, 0.8750, 0.9000]]"
      ]
     },
     "execution_count": 40,
     "metadata": {},
     "output_type": "execute_result"
    }
   ],
   "source": [
    "OF_list"
   ]
  },
  {
   "cell_type": "code",
   "execution_count": 42,
   "id": "aa4549c7",
   "metadata": {},
   "outputs": [
    {
     "name": "stdout",
     "output_type": "stream",
     "text": [
      "4 {'Nb': 3, 'Mn2+': 1, 'Mn+': 1, 'Ti': 1, 'Li': 6, 'index': 4}\n",
      "5 {'Co': 1, 'Nb': 2, 'Mn2+': 2, 'Li': 7, 'index': 5}\n",
      "6 {'Co': 2, 'Cr': 1, 'Nb': 1, 'Mn2+': 2, 'Mn+': 1, 'Li': 5, 'index': 6}\n",
      "7 {'Co': 2, 'Nb': 2, 'Mn2+': 1, 'Mn+': 2, 'Ti': 1, 'Li': 4, 'index': 7}\n",
      "8 {'Co': 1, 'Nb': 1, 'Mn2+': 1, 'Mn+': 1, 'Li': 8, 'index': 8}\n",
      "9 {'Co': 1, 'Nb': 1, 'Mn+': 1, 'Li': 9, 'index': 9}\n",
      "10 {'Co': 1, 'Nb': 1, 'Mn2+': 1, 'Mn+': 1, 'Li': 8, 'index': 10}\n",
      "11 {'Nb': 1, 'Mn2+': 1, 'Li': 10, 'index': 11}\n",
      "12 {'Co': 2, 'Nb': 2, 'Li': 8, 'index': 12}\n",
      "13 {'Co': 2, 'Nb': 1, 'Mn+': 1, 'Li': 8, 'index': 13}\n",
      "14 {'Mn+': 2, 'Ti': 1, 'Li': 9, 'index': 14}\n",
      "15 {'Cr': 1, 'Nb': 1, 'Mn+': 1, 'Li': 9, 'index': 15}\n",
      "16 {'Cr': 1, 'Mn+': 1, 'Ti': 1, 'Li': 9, 'index': 16}\n",
      "17 {'Co': 1, 'Nb': 1, 'Li': 10, 'index': 17}\n",
      "18 {'Cr': 1, 'Nb': 1, 'Li': 10, 'index': 18}\n",
      "19 {'Co': 1, 'Mn+': 1, 'Li': 10, 'index': 19}\n",
      "20 {'Co': 1, 'Mn+': 1, 'Li': 10, 'index': 20}\n",
      "21 {'Cr': 1, 'Nb': 1, 'Mn+': 1, 'Ti': 3, 'Li': 6, 'index': 21}\n",
      "22 {'Cr': 2, 'Nb': 1, 'Ti': 1, 'Li': 8, 'index': 22}\n",
      "23 {'Cr': 2, 'Li': 10, 'index': 23}\n",
      "24 {'Cr': 2, 'Nb': 1, 'Li': 9, 'index': 24}\n",
      "25 {'Cr': 1, 'Nb': 1, 'Mn2+': 1, 'Mn+': 1, 'Ti': 1, 'Li': 7, 'index': 25}\n",
      "26 {'Nb': 1, 'Mn2+': 1, 'Ti': 1, 'Li': 9, 'index': 26}\n",
      "27 {'Nb': 3, 'Mn+': 1, 'Mn2+': 1, 'Ti': 3, 'Li': 4, 'index': 27}\n",
      "28 {'Cr': 2, 'Nb': 3, 'Mn2+': 1, 'Ti': 1, 'Li': 5, 'index': 28}\n",
      "29 {'Co': 1, 'Cr': 2, 'Nb': 2, 'Mn2+': 1, 'Li': 6, 'index': 29}\n"
     ]
    }
   ],
   "source": [
    "#显示初始结构次近邻的Li的环境\n",
    "ls = []\n",
    "ind = []\n",
    "for i in range(tm2.num_sites):\n",
    "    if tm2.species[i] == Element(\"Li\"):\n",
    "        ind = cnn.get_cn_dict(tm2, i)\n",
    "        ind['index']=i\n",
    "        ls.append(ind)\n",
    "        print(i,ind)"
   ]
  },
  {
   "cell_type": "code",
   "execution_count": 18,
   "id": "74fdafcf",
   "metadata": {},
   "outputs": [
    {
     "data": {
      "text/plain": [
       "[{'Co': 1, 'Nb': 1, 'Mn+': 2, 'Ti': 3, 'Li': 5, 'index': 27},\n",
       " {'Cr': 2, 'Nb': 2, 'Mn2+': 1, 'Mn+': 1, 'Li': 6, 'index': 2},\n",
       " {'Co': 1, 'Cr': 1, 'Nb': 2, 'Mn2+': 2, 'Li': 6, 'index': 3},\n",
       " {'Co': 1, 'Nb': 2, 'Mn+': 1, 'Mn2+': 1, 'Ti': 1, 'Li': 6, 'index': 4},\n",
       " {'Co': 1, 'Nb': 1, 'Mn2+': 1, 'Mn+': 1, 'Ti': 2, 'Li': 6, 'index': 5},\n",
       " {'Cr': 1, 'Nb': 4, 'Mn2+': 1, 'Li': 6, 'index': 8},\n",
       " {'Cr': 1, 'Nb': 3, 'Mn2+': 1, 'Mn+': 1, 'Li': 6, 'index': 9},\n",
       " {'Cr': 1, 'Nb': 1, 'Mn+': 2, 'Ti': 1, 'Li': 7, 'index': 6},\n",
       " {'Cr': 1, 'Nb': 3, 'Mn2+': 1, 'Li': 7, 'index': 7},\n",
       " {'Co': 1, 'Cr': 1, 'Nb': 2, 'Mn+': 1, 'Li': 7, 'index': 10},\n",
       " {'Co': 1, 'Nb': 2, 'Mn2+': 1, 'Mn+': 1, 'Li': 7, 'index': 11},\n",
       " {'Co': 1, 'Cr': 1, 'Nb': 2, 'Mn+': 1, 'Li': 7, 'index': 12},\n",
       " {'Cr': 2, 'Nb': 2, 'Mn2+': 1, 'Li': 7, 'index': 14},\n",
       " {'Co': 1, 'Cr': 1, 'Nb': 1, 'Mn2+': 2, 'Li': 7, 'index': 15},\n",
       " {'Cr': 1, 'Nb': 2, 'Mn+': 1, 'Ti': 1, 'Li': 7, 'index': 24},\n",
       " {'Co': 1, 'Cr': 1, 'Nb': 1, 'Mn2+': 1, 'Ti': 1, 'Li': 7, 'index': 25},\n",
       " {'Co': 1, 'Cr': 1, 'Nb': 1, 'Mn+': 1, 'Li': 8, 'index': 13},\n",
       " {'Nb': 1, 'Mn+': 2, 'Ti': 1, 'Li': 8, 'index': 17},\n",
       " {'Co': 2, 'Mn2+': 1, 'Ti': 1, 'Li': 8, 'index': 20},\n",
       " {'Co': 2, 'Mn+': 1, 'Ti': 1, 'Li': 8, 'index': 22},\n",
       " {'Co': 1, 'Mn+': 1, 'Ti': 2, 'Li': 8, 'index': 23},\n",
       " {'Co': 1, 'Nb': 1, 'Mn2+': 1, 'Ti': 1, 'Li': 8, 'index': 26},\n",
       " {'Co': 2, 'Mn2+': 1, 'Li': 9, 'index': 16},\n",
       " {'Cr': 1, 'Nb': 1, 'Mn+': 1, 'Li': 9, 'index': 18},\n",
       " {'Cr': 1, 'Mn+': 1, 'Mn2+': 1, 'Li': 9, 'index': 19},\n",
       " {'Co': 1, 'Mn2+': 1, 'Ti': 1, 'Li': 9, 'index': 21}]"
      ]
     },
     "execution_count": 18,
     "metadata": {},
     "output_type": "execute_result"
    }
   ],
   "source": [
    "ls.sort(key=lambda k: (k.get('Li', 0)))\n",
    "ls"
   ]
  },
  {
   "cell_type": "code",
   "execution_count": 81,
   "id": "2ad94848",
   "metadata": {},
   "outputs": [
    {
     "name": "stdout",
     "output_type": "stream",
     "text": [
      "0 {'Li': 7, 'Ti': 2, 'Mn': 3}\n",
      "1 {'Li': 9, 'Nb': 1, 'Mn': 2}\n",
      "2 {'Li': 7, 'Nb': 1, 'Ti': 1, 'Mn': 3}\n",
      "3 {'Li': 7, 'Nb': 3, 'Mn': 2}\n",
      "32 {'Li': 9, 'Ti': 2, 'Mn': 1}\n",
      "33 {'Li': 10, 'Mn': 2}\n",
      "34 {'Li': 9, 'Mn': 3}\n",
      "35 {'Li': 6, 'Nb': 1, 'Ti': 1, 'Mn': 4}\n"
     ]
    }
   ],
   "source": [
    "#显示初始结构次近邻的Mn的环境\n",
    "for i in range(tm2.num_sites):\n",
    "    if tm2.species[i] == Element(\"Mn\"):\n",
    "        print(i,cnn.get_cn_dict(tm2, i))"
   ]
  },
  {
   "cell_type": "code",
   "execution_count": 82,
   "id": "934c9ade",
   "metadata": {},
   "outputs": [
    {
     "name": "stdout",
     "output_type": "stream",
     "text": [
      "30 {'Li': 8, 'Mn': 4}\n",
      "31 {'Li': 10, 'Mn': 2}\n"
     ]
    }
   ],
   "source": [
    "#显示初始结构次近邻的Ti的环境\n",
    "for i in range(tm2.num_sites):\n",
    "    if tm2.species[i] == Element(\"Ti\"):\n",
    "        print(i,cnn.get_cn_dict(tm2, i))"
   ]
  },
  {
   "cell_type": "code",
   "execution_count": 83,
   "id": "42b7f85b",
   "metadata": {},
   "outputs": [
    {
     "name": "stdout",
     "output_type": "stream",
     "text": [
      "36 {'Li': 11, 'Nb': 1}\n",
      "37 {'Li': 10, 'Nb': 2}\n",
      "38 {'Li': 9, 'Mn': 1, 'Nb': 2}\n",
      "39 {'Li': 6, 'Mn': 5, 'Nb': 1}\n"
     ]
    }
   ],
   "source": [
    "#显示初始结构次近邻的Nb的环境\n",
    "for i in range(tm2.num_sites):\n",
    "    if tm2.species[i] == Element(\"Nb\"):\n",
    "        print(i,cnn.get_cn_dict(tm2, i))"
   ]
  },
  {
   "cell_type": "markdown",
   "id": "2e50bc9f",
   "metadata": {},
   "source": [
    "## 构造Li-Li数量较少的结构"
   ]
  },
  {
   "cell_type": "code",
   "execution_count": 84,
   "id": "8473ce93",
   "metadata": {},
   "outputs": [],
   "source": [
    "tm2_less[15] = \"Mn\"\n",
    "tm2_less[19] = \"Mn\"\n",
    "tm2_less[0] = \"Li\"\n",
    "tm2_less[35] = \"Li\""
   ]
  },
  {
   "cell_type": "code",
   "execution_count": 85,
   "id": "1c293e85",
   "metadata": {},
   "outputs": [
    {
     "data": {
      "text/plain": [
       "Structure Summary\n",
       "Lattice\n",
       "    abc : 5.980143469850869 11.960286939701739 14.950358674627175\n",
       " angles : 59.99999999999999 59.99999999999999 59.99999999999999\n",
       " volume : 756.11841689656\n",
       "      A : 0.0 4.2286 4.2286\n",
       "      B : 8.4572 0.0 8.4572\n",
       "      C : 10.5715 10.5715 0.0\n",
       "PeriodicSite: Li (19.0287, 14.8001, 12.6858) [1.0000, 1.0000, 1.0000]\n",
       "PeriodicSite: Mn (12.6858, 14.8001, 6.3429) [1.0000, 0.2500, 1.0000]\n",
       "PeriodicSite: Mn (14.8001, 12.6858, 6.3429) [0.5000, 0.5000, 1.0000]\n",
       "PeriodicSite: Mn (12.6858, 10.5715, 6.3429) [0.5000, 0.5000, 0.8000]\n",
       "PeriodicSite: Li (19.0287, 12.6858, 10.5715) [0.5000, 1.0000, 1.0000]\n",
       "PeriodicSite: Li (12.6858, 12.6858, 4.2286) [0.5000, 0.2500, 1.0000]\n",
       "PeriodicSite: Li (14.8001, 14.8001, 8.4572) [1.0000, 0.5000, 1.0000]\n",
       "PeriodicSite: Li (16.9144, 14.8001, 10.5715) [1.0000, 0.7500, 1.0000]\n",
       "PeriodicSite: Li (10.5715, 6.3429, 12.6858) [1.0000, 1.0000, 0.2000]\n",
       "PeriodicSite: Li (4.2286, 6.3429, 6.3429) [1.0000, 0.2500, 0.2000]\n",
       "PeriodicSite: Li (4.2286, 4.2286, 4.2286) [0.5000, 0.2500, 0.2000]\n",
       "PeriodicSite: Li (6.3429, 6.3429, 8.4572) [1.0000, 0.5000, 0.2000]\n",
       "PeriodicSite: Li (6.3429, 4.2286, 6.3429) [0.5000, 0.5000, 0.2000]\n",
       "PeriodicSite: Li (8.4572, 4.2286, 8.4572) [0.5000, 0.7500, 0.2000]\n",
       "PeriodicSite: Li (12.6858, 8.4572, 12.6858) [1.0000, 1.0000, 0.4000]\n",
       "PeriodicSite: Mn (12.6858, 6.3429, 10.5715) [0.5000, 1.0000, 0.4000]\n",
       "PeriodicSite: Li (6.3429, 6.3429, 4.2286) [0.5000, 0.2500, 0.4000]\n",
       "PeriodicSite: Li (8.4572, 8.4572, 8.4572) [1.0000, 0.5000, 0.4000]\n",
       "PeriodicSite: Li (10.5715, 8.4572, 10.5715) [1.0000, 0.7500, 0.4000]\n",
       "PeriodicSite: Mn (10.5715, 6.3429, 8.4572) [0.5000, 0.7500, 0.4000]\n",
       "PeriodicSite: Li (14.8001, 10.5715, 12.6858) [1.0000, 1.0000, 0.6000]\n",
       "PeriodicSite: Li (8.4572, 10.5715, 6.3429) [1.0000, 0.2500, 0.6000]\n",
       "PeriodicSite: Li (8.4572, 8.4572, 4.2286) [0.5000, 0.2500, 0.6000]\n",
       "PeriodicSite: Li (10.5715, 8.4572, 6.3429) [0.5000, 0.5000, 0.6000]\n",
       "PeriodicSite: Li (12.6858, 10.5715, 10.5715) [1.0000, 0.7500, 0.6000]\n",
       "PeriodicSite: Li (12.6858, 8.4572, 8.4572) [0.5000, 0.7500, 0.6000]\n",
       "PeriodicSite: Li (16.9144, 10.5715, 10.5715) [0.5000, 1.0000, 0.8000]\n",
       "PeriodicSite: Li (10.5715, 12.6858, 6.3429) [1.0000, 0.2500, 0.8000]\n",
       "PeriodicSite: Li (10.5715, 10.5715, 4.2286) [0.5000, 0.2500, 0.8000]\n",
       "PeriodicSite: Li (14.8001, 12.6858, 10.5715) [1.0000, 0.7500, 0.8000]\n",
       "PeriodicSite: Ti (16.9144, 12.6858, 8.4572) [0.5000, 0.7500, 1.0000]\n",
       "PeriodicSite: Ti (10.5715, 4.2286, 10.5715) [0.5000, 1.0000, 0.2000]\n",
       "PeriodicSite: Mn (8.4572, 6.3429, 10.5715) [1.0000, 0.7500, 0.2000]\n",
       "PeriodicSite: Mn (14.8001, 8.4572, 10.5715) [0.5000, 1.0000, 0.6000]\n",
       "PeriodicSite: Mn (16.9144, 12.6858, 12.6858) [1.0000, 1.0000, 0.8000]\n",
       "PeriodicSite: Li (14.8001, 10.5715, 8.4572) [0.5000, 0.7500, 0.8000]\n",
       "PeriodicSite: Nb (6.3429, 8.4572, 6.3429) [1.0000, 0.2500, 0.4000]\n",
       "PeriodicSite: Nb (8.4572, 6.3429, 6.3429) [0.5000, 0.5000, 0.4000]\n",
       "PeriodicSite: Nb (10.5715, 10.5715, 8.4572) [1.0000, 0.5000, 0.6000]\n",
       "PeriodicSite: Nb (12.6858, 12.6858, 8.4572) [1.0000, 0.5000, 0.8000]"
      ]
     },
     "execution_count": 85,
     "metadata": {},
     "output_type": "execute_result"
    }
   ],
   "source": [
    "tm2_less"
   ]
  },
  {
   "cell_type": "code",
   "execution_count": 86,
   "id": "3caf1791",
   "metadata": {},
   "outputs": [
    {
     "name": "stderr",
     "output_type": "stream",
     "text": [
      "D:\\Python\\Anaconda\\lib\\site-packages\\pymatgen\\analysis\\local_env.py:4303: UserWarning: No oxidation states specified on sites! For better results, set the site oxidation states in the structure.\n",
      "  \"No oxidation states specified on sites! For better results, set \"\n",
      "D:\\Python\\Anaconda\\lib\\site-packages\\pymatgen\\analysis\\local_env.py:4086: UserWarning: CrystalNN: cannot locate an appropriate radius, covalent or atomic radii will be used, this can lead to non-optimal results.\n",
      "  \"CrystalNN: cannot locate an appropriate radius, \"\n"
     ]
    },
    {
     "name": "stdout",
     "output_type": "stream",
     "text": [
      "[7, 8, 7, 6, 7, 7, 9, 7, 8, 8, 6, 6, 7, 6, 6, 7, 8, 8, 6, 8, 7, 8, 7, 8, 8, 6]\n"
     ]
    },
    {
     "data": {
      "text/plain": [
       "7.153846153846154"
      ]
     },
     "execution_count": 86,
     "metadata": {},
     "output_type": "execute_result"
    }
   ],
   "source": [
    "li_f_cn = []\n",
    "for i in range(tm2_less.num_sites):\n",
    "    if tm2_less.species[i] == Element(\"Li\"):\n",
    "        li_f_cn.append(cnn.get_cn_dict(tm2_less, i).get(\"Li\", 0))\n",
    "        \n",
    "print(li_f_cn)\n",
    "np.mean(li_f_cn)"
   ]
  },
  {
   "cell_type": "markdown",
   "id": "bfca5cc7",
   "metadata": {},
   "source": [
    "## 构造Li-Li数量较多的结构"
   ]
  },
  {
   "cell_type": "code",
   "execution_count": 87,
   "id": "0c438e01",
   "metadata": {},
   "outputs": [],
   "source": [
    "tm2_more[4] = \"Mn\"\n",
    "tm2_more[5] = \"Mn\"\n",
    "tm2_more[1] = \"Li\"\n",
    "tm2_more[33] = \"Li\""
   ]
  },
  {
   "cell_type": "code",
   "execution_count": 88,
   "id": "7454ac08",
   "metadata": {},
   "outputs": [
    {
     "data": {
      "text/plain": [
       "Structure Summary\n",
       "Lattice\n",
       "    abc : 5.980143469850869 11.960286939701739 14.950358674627175\n",
       " angles : 59.99999999999999 59.99999999999999 59.99999999999999\n",
       " volume : 756.11841689656\n",
       "      A : 0.0 4.2286 4.2286\n",
       "      B : 8.4572 0.0 8.4572\n",
       "      C : 10.5715 10.5715 0.0\n",
       "PeriodicSite: Mn (19.0287, 14.8001, 12.6858) [1.0000, 1.0000, 1.0000]\n",
       "PeriodicSite: Li (12.6858, 14.8001, 6.3429) [1.0000, 0.2500, 1.0000]\n",
       "PeriodicSite: Mn (14.8001, 12.6858, 6.3429) [0.5000, 0.5000, 1.0000]\n",
       "PeriodicSite: Mn (12.6858, 10.5715, 6.3429) [0.5000, 0.5000, 0.8000]\n",
       "PeriodicSite: Mn (19.0287, 12.6858, 10.5715) [0.5000, 1.0000, 1.0000]\n",
       "PeriodicSite: Mn (12.6858, 12.6858, 4.2286) [0.5000, 0.2500, 1.0000]\n",
       "PeriodicSite: Li (14.8001, 14.8001, 8.4572) [1.0000, 0.5000, 1.0000]\n",
       "PeriodicSite: Li (16.9144, 14.8001, 10.5715) [1.0000, 0.7500, 1.0000]\n",
       "PeriodicSite: Li (10.5715, 6.3429, 12.6858) [1.0000, 1.0000, 0.2000]\n",
       "PeriodicSite: Li (4.2286, 6.3429, 6.3429) [1.0000, 0.2500, 0.2000]\n",
       "PeriodicSite: Li (4.2286, 4.2286, 4.2286) [0.5000, 0.2500, 0.2000]\n",
       "PeriodicSite: Li (6.3429, 6.3429, 8.4572) [1.0000, 0.5000, 0.2000]\n",
       "PeriodicSite: Li (6.3429, 4.2286, 6.3429) [0.5000, 0.5000, 0.2000]\n",
       "PeriodicSite: Li (8.4572, 4.2286, 8.4572) [0.5000, 0.7500, 0.2000]\n",
       "PeriodicSite: Li (12.6858, 8.4572, 12.6858) [1.0000, 1.0000, 0.4000]\n",
       "PeriodicSite: Li (12.6858, 6.3429, 10.5715) [0.5000, 1.0000, 0.4000]\n",
       "PeriodicSite: Li (6.3429, 6.3429, 4.2286) [0.5000, 0.2500, 0.4000]\n",
       "PeriodicSite: Li (8.4572, 8.4572, 8.4572) [1.0000, 0.5000, 0.4000]\n",
       "PeriodicSite: Li (10.5715, 8.4572, 10.5715) [1.0000, 0.7500, 0.4000]\n",
       "PeriodicSite: Li (10.5715, 6.3429, 8.4572) [0.5000, 0.7500, 0.4000]\n",
       "PeriodicSite: Li (14.8001, 10.5715, 12.6858) [1.0000, 1.0000, 0.6000]\n",
       "PeriodicSite: Li (8.4572, 10.5715, 6.3429) [1.0000, 0.2500, 0.6000]\n",
       "PeriodicSite: Li (8.4572, 8.4572, 4.2286) [0.5000, 0.2500, 0.6000]\n",
       "PeriodicSite: Li (10.5715, 8.4572, 6.3429) [0.5000, 0.5000, 0.6000]\n",
       "PeriodicSite: Li (12.6858, 10.5715, 10.5715) [1.0000, 0.7500, 0.6000]\n",
       "PeriodicSite: Li (12.6858, 8.4572, 8.4572) [0.5000, 0.7500, 0.6000]\n",
       "PeriodicSite: Li (16.9144, 10.5715, 10.5715) [0.5000, 1.0000, 0.8000]\n",
       "PeriodicSite: Li (10.5715, 12.6858, 6.3429) [1.0000, 0.2500, 0.8000]\n",
       "PeriodicSite: Li (10.5715, 10.5715, 4.2286) [0.5000, 0.2500, 0.8000]\n",
       "PeriodicSite: Li (14.8001, 12.6858, 10.5715) [1.0000, 0.7500, 0.8000]\n",
       "PeriodicSite: Ti (16.9144, 12.6858, 8.4572) [0.5000, 0.7500, 1.0000]\n",
       "PeriodicSite: Ti (10.5715, 4.2286, 10.5715) [0.5000, 1.0000, 0.2000]\n",
       "PeriodicSite: Mn (8.4572, 6.3429, 10.5715) [1.0000, 0.7500, 0.2000]\n",
       "PeriodicSite: Li (14.8001, 8.4572, 10.5715) [0.5000, 1.0000, 0.6000]\n",
       "PeriodicSite: Mn (16.9144, 12.6858, 12.6858) [1.0000, 1.0000, 0.8000]\n",
       "PeriodicSite: Mn (14.8001, 10.5715, 8.4572) [0.5000, 0.7500, 0.8000]\n",
       "PeriodicSite: Nb (6.3429, 8.4572, 6.3429) [1.0000, 0.2500, 0.4000]\n",
       "PeriodicSite: Nb (8.4572, 6.3429, 6.3429) [0.5000, 0.5000, 0.4000]\n",
       "PeriodicSite: Nb (10.5715, 10.5715, 8.4572) [1.0000, 0.5000, 0.6000]\n",
       "PeriodicSite: Nb (12.6858, 12.6858, 8.4572) [1.0000, 0.5000, 0.8000]"
      ]
     },
     "execution_count": 88,
     "metadata": {},
     "output_type": "execute_result"
    }
   ],
   "source": [
    "tm2_more"
   ]
  },
  {
   "cell_type": "code",
   "execution_count": 89,
   "id": "5b895efe",
   "metadata": {},
   "outputs": [
    {
     "name": "stderr",
     "output_type": "stream",
     "text": [
      "D:\\Python\\Anaconda\\lib\\site-packages\\pymatgen\\analysis\\local_env.py:4303: UserWarning: No oxidation states specified on sites! For better results, set the site oxidation states in the structure.\n",
      "  \"No oxidation states specified on sites! For better results, set \"\n",
      "D:\\Python\\Anaconda\\lib\\site-packages\\pymatgen\\analysis\\local_env.py:4086: UserWarning: CrystalNN: cannot locate an appropriate radius, covalent or atomic radii will be used, this can lead to non-optimal results.\n",
      "  \"CrystalNN: cannot locate an appropriate radius, \"\n"
     ]
    },
    {
     "name": "stdout",
     "output_type": "stream",
     "text": [
      "[6, 6, 4, 7, 9, 8, 8, 8, 6, 10, 10, 9, 7, 9, 9, 10, 9, 9, 7, 9, 9, 6, 6, 7, 6, 10]\n"
     ]
    },
    {
     "data": {
      "text/plain": [
       "7.846153846153846"
      ]
     },
     "execution_count": 89,
     "metadata": {},
     "output_type": "execute_result"
    }
   ],
   "source": [
    "li_f_cn = []\n",
    "for i in range(tm2_more.num_sites):\n",
    "    if tm2_more.species[i] == Element(\"Li\"):\n",
    "        li_f_cn.append(cnn.get_cn_dict(tm2_more, i).get(\"Li\", 0))\n",
    "        \n",
    "print(li_f_cn)\n",
    "np.mean(li_f_cn)"
   ]
  },
  {
   "cell_type": "markdown",
   "id": "46e4dcbd",
   "metadata": {},
   "source": [
    "# 导出结构"
   ]
  },
  {
   "cell_type": "code",
   "execution_count": 90,
   "id": "20920596",
   "metadata": {},
   "outputs": [
    {
     "data": {
      "text/plain": [
       "[PeriodicSite: O (2.1143, 2.1143, 2.1143) [0.2500, 0.1250, 0.1000],\n",
       " PeriodicSite: O (4.2286, 2.1143, 4.2286) [0.2500, 0.3750, 0.1000],\n",
       " PeriodicSite: O (6.3429, 2.1143, 6.3429) [0.2500, 0.6250, 0.1000],\n",
       " PeriodicSite: O (6.3429, 4.2286, 8.4572) [0.7500, 0.6250, 0.1000],\n",
       " PeriodicSite: O (8.4572, 2.1143, 8.4572) [0.2500, 0.8750, 0.1000],\n",
       " PeriodicSite: O (8.4572, 4.2286, 10.5715) [0.7500, 0.8750, 0.1000],\n",
       " PeriodicSite: O (4.2286, 4.2286, 2.1143) [0.2500, 0.1250, 0.3000],\n",
       " PeriodicSite: O (4.2286, 6.3429, 4.2286) [0.7500, 0.1250, 0.3000],\n",
       " PeriodicSite: O (6.3429, 4.2286, 4.2286) [0.2500, 0.3750, 0.3000],\n",
       " PeriodicSite: O (6.3429, 6.3429, 6.3429) [0.7500, 0.3750, 0.3000],\n",
       " PeriodicSite: O (8.4572, 4.2286, 6.3429) [0.2500, 0.6250, 0.3000],\n",
       " PeriodicSite: O (8.4572, 6.3429, 8.4572) [0.7500, 0.6250, 0.3000],\n",
       " PeriodicSite: O (10.5715, 4.2286, 8.4572) [0.2500, 0.8750, 0.3000],\n",
       " PeriodicSite: O (10.5715, 6.3429, 10.5715) [0.7500, 0.8750, 0.3000],\n",
       " PeriodicSite: O (6.3429, 6.3429, 2.1143) [0.2500, 0.1250, 0.5000],\n",
       " PeriodicSite: O (6.3429, 8.4572, 4.2286) [0.7500, 0.1250, 0.5000],\n",
       " PeriodicSite: O (8.4572, 6.3429, 4.2286) [0.2500, 0.3750, 0.5000],\n",
       " PeriodicSite: O (8.4572, 8.4572, 6.3429) [0.7500, 0.3750, 0.5000],\n",
       " PeriodicSite: O (10.5715, 6.3429, 6.3429) [0.2500, 0.6250, 0.5000],\n",
       " PeriodicSite: O (12.6858, 6.3429, 8.4572) [0.2500, 0.8750, 0.5000],\n",
       " PeriodicSite: O (8.4572, 8.4572, 2.1143) [0.2500, 0.1250, 0.7000],\n",
       " PeriodicSite: O (10.5715, 8.4572, 4.2286) [0.2500, 0.3750, 0.7000],\n",
       " PeriodicSite: O (10.5715, 10.5715, 6.3429) [0.7500, 0.3750, 0.7000],\n",
       " PeriodicSite: O (12.6858, 8.4572, 6.3429) [0.2500, 0.6250, 0.7000],\n",
       " PeriodicSite: O (12.6858, 10.5715, 8.4572) [0.7500, 0.6250, 0.7000],\n",
       " PeriodicSite: O (14.8001, 10.5715, 10.5715) [0.7500, 0.8750, 0.7000],\n",
       " PeriodicSite: O (10.5715, 10.5715, 2.1143) [0.2500, 0.1250, 0.9000],\n",
       " PeriodicSite: O (10.5715, 12.6858, 4.2286) [0.7500, 0.1250, 0.9000],\n",
       " PeriodicSite: O (12.6858, 10.5715, 4.2286) [0.2500, 0.3750, 0.9000],\n",
       " PeriodicSite: O (12.6858, 12.6858, 6.3429) [0.7500, 0.3750, 0.9000],\n",
       " PeriodicSite: O (14.8001, 10.5715, 6.3429) [0.2500, 0.6250, 0.9000],\n",
       " PeriodicSite: O (14.8001, 12.6858, 8.4572) [0.7500, 0.6250, 0.9000],\n",
       " PeriodicSite: O (16.9144, 10.5715, 8.4572) [0.2500, 0.8750, 0.9000],\n",
       " PeriodicSite: O (16.9144, 12.6858, 10.5715) [0.7500, 0.8750, 0.9000],\n",
       " PeriodicSite: F (2.1143, 4.2286, 4.2286) [0.7500, 0.1250, 0.1000],\n",
       " PeriodicSite: F (4.2286, 4.2286, 6.3429) [0.7500, 0.3750, 0.1000],\n",
       " PeriodicSite: F (10.5715, 8.4572, 8.4572) [0.7500, 0.6250, 0.5000],\n",
       " PeriodicSite: F (12.6858, 8.4572, 10.5715) [0.7500, 0.8750, 0.5000],\n",
       " PeriodicSite: F (8.4572, 10.5715, 4.2286) [0.7500, 0.1250, 0.7000],\n",
       " PeriodicSite: F (14.8001, 8.4572, 8.4572) [0.2500, 0.8750, 0.7000]]"
      ]
     },
     "execution_count": 90,
     "metadata": {},
     "output_type": "execute_result"
    }
   ],
   "source": [
    "OF_list"
   ]
  },
  {
   "cell_type": "code",
   "execution_count": 91,
   "id": "45ad75e7",
   "metadata": {},
   "outputs": [],
   "source": [
    "for i in range(len(OF_list)):\n",
    "    tm2.append(OF_list[i].specie, OF_list[i].frac_coords)\n",
    "    tm2_less.append(OF_list[i].specie, OF_list[i].frac_coords)\n",
    "    tm2_more.append(OF_list[i].specie, OF_list[i].frac_coords)"
   ]
  },
  {
   "cell_type": "code",
   "execution_count": 92,
   "id": "b9ea9f1f",
   "metadata": {},
   "outputs": [],
   "source": [
    "tm2.to(filename=\"5mid.POSCAR\")\n",
    "tm2_less.to(filename=\"5less.POSCAR\")\n",
    "tm2_more.to(filename=\"5more.POSCAR\")"
   ]
  },
  {
   "cell_type": "code",
   "execution_count": null,
   "id": "273a15d2",
   "metadata": {},
   "outputs": [],
   "source": []
  }
 ],
 "metadata": {
  "kernelspec": {
   "display_name": "Python 3",
   "language": "python",
   "name": "python3"
  },
  "language_info": {
   "codemirror_mode": {
    "name": "ipython",
    "version": 3
   },
   "file_extension": ".py",
   "mimetype": "text/x-python",
   "name": "python",
   "nbconvert_exporter": "python",
   "pygments_lexer": "ipython3",
   "version": "3.7.6"
  }
 },
 "nbformat": 4,
 "nbformat_minor": 5
}
